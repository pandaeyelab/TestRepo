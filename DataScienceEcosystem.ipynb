{
 "cells": [
  {
   "cell_type": "markdown",
   "id": "edff916f-047d-4be3-bde0-2f459b837742",
   "metadata": {},
   "source": [
    "# Data Science Tools and Ecosystem"
   ]
  },
  {
   "cell_type": "markdown",
   "id": "17c188f0-c9a9-480f-a222-c000e36efb02",
   "metadata": {},
   "source": [
    "## In this notebook, Data Science Tools and Ecosystem are summarized."
   ]
  },
  {
   "cell_type": "markdown",
   "id": "d4c13b28-21a1-4eee-9155-7ce03bec4867",
   "metadata": {},
   "source": [
    "### **Objectives:**\n",
    "- Popular languages\n",
    "- commonly used libraries"
   ]
  },
  {
   "cell_type": "markdown",
   "id": "f840e859-36df-463c-9c87-be8d19c91200",
   "metadata": {},
   "source": [
    "## Some of the popular languages that Data Scientists use are:\n",
    "1. Python\n",
    "2. R\n",
    "3. Julia"
   ]
  },
  {
   "cell_type": "markdown",
   "id": "99b32e67-20bb-4f3c-815a-b09b858b25f8",
   "metadata": {},
   "source": [
    "## Some of the commonly used libraries used by Data Scientists include:\n",
    "1. Pandas\n",
    "2. Numpy\n",
    "3. Scikit-learn"
   ]
  },
  {
   "cell_type": "markdown",
   "id": "f1a65870-7843-420a-998b-c399b604211a",
   "metadata": {},
   "source": [
    "|Data Science Tools|\n",
    "|------------------|\n",
    "|Anaconda|\n",
    "|VS code|\n",
    "|R studio|"
   ]
  },
  {
   "cell_type": "markdown",
   "id": "b103a7ce-c3cb-405b-a16c-5f43cacff717",
   "metadata": {},
   "source": [
    "### Below are a few examples of evaluating arithmetic expressions in Python"
   ]
  },
  {
   "cell_type": "code",
   "execution_count": 6,
   "id": "91ac7f9d-b2a7-48fd-ba03-e6e19fa7d452",
   "metadata": {},
   "outputs": [
    {
     "data": {
      "text/plain": [
       "17"
      ]
     },
     "execution_count": 6,
     "metadata": {},
     "output_type": "execute_result"
    }
   ],
   "source": [
    "# This a simple arithmetic expression to mutiply then add integers.\n",
    "(3*4)+5"
   ]
  },
  {
   "cell_type": "code",
   "execution_count": 7,
   "id": "62e7d57f-c76c-4c5b-89de-6ebae3fbdb2a",
   "metadata": {},
   "outputs": [
    {
     "data": {
      "text/plain": [
       "3.3333333333333335"
      ]
     },
     "execution_count": 7,
     "metadata": {},
     "output_type": "execute_result"
    }
   ],
   "source": [
    "# This will convert 200 minutes to hours by diving by 60.\n",
    "(200/60)"
   ]
  },
  {
   "cell_type": "markdown",
   "id": "f8e38917-5c86-4627-a32b-25227e6349b4",
   "metadata": {},
   "source": [
    "## Author:\n",
    "Guo Ming-Chen"
   ]
  },
  {
   "cell_type": "code",
   "execution_count": null,
   "id": "73cd1234-c8ad-4481-9e1f-16b9f3a25f9b",
   "metadata": {},
   "outputs": [],
   "source": []
  }
 ],
 "metadata": {
  "kernelspec": {
   "display_name": "Python [conda env:base] *",
   "language": "python",
   "name": "conda-base-py"
  },
  "language_info": {
   "codemirror_mode": {
    "name": "ipython",
    "version": 3
   },
   "file_extension": ".py",
   "mimetype": "text/x-python",
   "name": "python",
   "nbconvert_exporter": "python",
   "pygments_lexer": "ipython3",
   "version": "3.12.7"
  }
 },
 "nbformat": 4,
 "nbformat_minor": 5
}
